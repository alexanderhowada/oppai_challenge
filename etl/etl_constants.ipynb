{
 "cells": [
  {
   "cell_type": "code",
   "execution_count": 0,
   "metadata": {
    "application/vnd.databricks.v1+cell": {
     "cellMetadata": {
      "byteLimit": 2048000,
      "rowLimit": 10000
     },
     "inputWidgets": {},
     "nuid": "5f97b920-f40b-4f63-b3dd-d4f2619bd57d",
     "showTitle": false,
     "title": ""
    }
   },
   "outputs": [],
   "source": [
    "from datetime import datetime, timedelta\n"
   ]
  },
  {
   "cell_type": "code",
   "execution_count": 0,
   "metadata": {
    "application/vnd.databricks.v1+cell": {
     "cellMetadata": {
      "byteLimit": 2048000,
      "rowLimit": 10000
     },
     "inputWidgets": {},
     "nuid": "f76044d5-02a7-4aae-ac72-03a7dd148b2c",
     "showTitle": false,
     "title": ""
    }
   },
   "outputs": [],
   "source": [
    "BASE_PATH = '/dbfs/mnt/oppai/anexos'\n",
    "\n",
    "DT_END = datetime.now().date() + timedelta(days=1)\n",
    "DT_START = DT_END - timedelta(days=30*3)\n",
    "# DT_START = datetime(1900, 1, 1).date()\n",
    "\n",
    "DATABASE = 'patreon'\n",
    "TARGET_USERS_RAW_TB = f'{DATABASE}.users_raw'\n",
    "DROP_RAW = False\n",
    "\n",
    "TARGET_USERS_BRONZE_TB = f'{DATABASE}.users_bronze'\n",
    "DROP_BRONZE = False\n",
    "\n",
    "TARGET_POSTS_RAW_TB = f'{DATABASE}.posts_raw'\n",
    "DROP_POSTS_RAW = False\n",
    "TARGET_POSTS_BRONZE_TB = f'{DATABASE}.posts_bronze'\n",
    "TARGET_POSTS_TRANSLATIONS_BRONZE_TB = f'{DATABASE}.posts_translations_bronze'\n",
    "\n",
    "TARGET_POSTS_COMMENTS_RAW_TB = f'{DATABASE}.posts_comments_raw'\n",
    "TARGET_POSTS_COMMENTS_BRONZE_TB = f'{DATABASE}.posts_comments_bronze'"
   ]
  },
  {
   "cell_type": "code",
   "execution_count": 0,
   "metadata": {
    "application/vnd.databricks.v1+cell": {
     "cellMetadata": {},
     "inputWidgets": {},
     "nuid": "e7336854-fb03-44b6-9a1f-a9bcdce0652d",
     "showTitle": false,
     "title": ""
    }
   },
   "outputs": [],
   "source": []
  }
 ],
 "metadata": {
  "application/vnd.databricks.v1+notebook": {
   "dashboards": [],
   "language": "python",
   "notebookMetadata": {
    "pythonIndentUnit": 4
   },
   "notebookName": "etl_constants",
   "widgets": {}
  },
  "kernelspec": {
   "display_name": "Python 3 (ipykernel)",
   "language": "python",
   "name": "python3"
  },
  "language_info": {
   "codemirror_mode": {
    "name": "ipython",
    "version": 3
   },
   "file_extension": ".py",
   "mimetype": "text/x-python",
   "name": "python",
   "nbconvert_exporter": "python",
   "pygments_lexer": "ipython3",
   "version": "3.10.12"
  }
 },
 "nbformat": 4,
 "nbformat_minor": 0
}
