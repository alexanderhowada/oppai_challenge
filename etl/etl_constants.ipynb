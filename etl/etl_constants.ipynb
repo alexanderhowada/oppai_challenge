{
 "cells": [
  {
   "cell_type": "code",
   "execution_count": null,
   "id": "620976b4",
   "metadata": {},
   "outputs": [],
   "source": [
    "from datetime import datetime, timedelta\n"
   ]
  },
  {
   "cell_type": "code",
   "execution_count": null,
   "id": "5ad65814",
   "metadata": {},
   "outputs": [],
   "source": [
    "BASE_PATH = '../tests'\n",
    "\n",
    "DT_END = datetime.now().date() + timedelta(days=1)\n",
    "# DT_START = DT_END - timedelta(days=30)\n",
    "DT_START = datetime(1900, 1, 1).date()\n",
    "\n",
    "DATABASE = 'oppai_challenge'\n",
    "TARGET_USERS_RAW_TB = f'{DATABASE}.patreon_users_raw'\n",
    "DROP_RAW = False\n",
    "\n",
    "TARGET_USERS_BRONZE_TB = f'{DATABASE}.patreon_users_bronze'\n",
    "DROP_BRONZE = False\n",
    "\n",
    "TARGET_POSTS_BRONZE_TB = f'{DATABASE}.patreon_posts_bronze'\n",
    "TARGET_POSTS_TRANSLATIONS_BRONZE_TB = f'{DATABASE}.patreon_posts_translations_bronze'"
   ]
  }
 ],
 "metadata": {
  "kernelspec": {
   "display_name": "Python 3 (ipykernel)",
   "language": "python",
   "name": "python3"
  },
  "language_info": {
   "codemirror_mode": {
    "name": "ipython",
    "version": 3
   },
   "file_extension": ".py",
   "mimetype": "text/x-python",
   "name": "python",
   "nbconvert_exporter": "python",
   "pygments_lexer": "ipython3",
   "version": "3.10.12"
  }
 },
 "nbformat": 4,
 "nbformat_minor": 5
}
