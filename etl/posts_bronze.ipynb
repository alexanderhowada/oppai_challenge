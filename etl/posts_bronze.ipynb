{
 "cells": [
  {
   "cell_type": "code",
   "execution_count": 0,
   "metadata": {
    "application/vnd.databricks.v1+cell": {
     "cellMetadata": {
      "byteLimit": 2048000,
      "rowLimit": 10000
     },
     "inputWidgets": {},
     "nuid": "c8842e90-8d53-402c-bb19-b3870c8fd0dc",
     "showTitle": false,
     "title": ""
    }
   },
   "outputs": [],
   "source": [
    "from pyspark.sql import functions as F\n",
    "from utils.logs import print_args\n",
    "from utils.spark_delta import merge, table_exists\n",
    "from utils.data_quality import assert_no_null, assert_pk\n",
    "from utils.spark_delta_transform import unnest_struct, transform_column_names"
   ]
  },
  {
   "cell_type": "code",
   "execution_count": 0,
   "metadata": {
    "application/vnd.databricks.v1+cell": {
     "cellMetadata": {
      "byteLimit": 2048000,
      "rowLimit": 10000
     },
     "inputWidgets": {},
     "nuid": "e5ff103f-dcf7-4bde-bfe2-117f0d7e7aea",
     "showTitle": false,
     "title": ""
    }
   },
   "outputs": [],
   "source": [
    "class PostsBronzeETL:\n",
    "    def __init__(self, spark, dt_start, dt_end, p_pk=None, t_pk=None):\n",
    "        self.spark = spark\n",
    "        self.dt_start = dt_start  # dummy varibles to be used later in real ETL\n",
    "        self.dt_end = dt_end  # dummy varibles to be used later in real ETL\n",
    "        self.p_pk, self.t_pk = self._set_pk(p_pk, t_pk)\n",
    "        \n",
    "    @staticmethod\n",
    "    def _set_pk(p_pk, t_pk):\n",
    "        if p_pk is None:\n",
    "            p_pk = [\"id_oid\"]\n",
    "        if t_pk is None:\n",
    "            t_pk = [\"id_oid\", \"translations_language\"]\n",
    "        return p_pk, t_pk\n",
    "            \n",
    "    @print_args(print_kwargs=['source_tb'])\n",
    "    def extract(self, source_tb: str):\n",
    "        p_df = self.spark.read.format('delta').table(source_tb)\n",
    "        p_df = p_df.filter(f\"updated_at_date BETWEEN '{self.dt_start}' AND '{self.dt_end}'\").distinct()\n",
    "        return p_df\n",
    "    \n",
    "    def transform(self, df):\n",
    "        # Remove translations to a separated dataframe.\n",
    "        t_df = df.select(\"id_oid\", \"translations\")\n",
    "        p_df = df.drop(\"translations\")\n",
    "        \n",
    "        # Unnest\n",
    "        t_df = self._transform_translations(df)\n",
    "        p_df = transform_column_names(unnest_struct(p_df))\n",
    "        \n",
    "        t_df = self._transform_to_timestamp(t_df)\n",
    "        p_df = self._transform_to_timestamp(p_df)\n",
    "                \n",
    "        return p_df, t_df\n",
    "    \n",
    "    @staticmethod\n",
    "    def _transform_to_timestamp(df):\n",
    "        for c in df.columns:\n",
    "            if '_date' in c:\n",
    "                df = df.withColumn(c, F.to_timestamp(df[c]))\n",
    "        return df\n",
    "    \n",
    "    def assert_quality(self, p_df, t_df):\n",
    "        assert_no_null(p_df, self.p_pk+['updated_at_date', 'created_at_date'])\n",
    "        assert_pk(df, self.p_pk)\n",
    "\n",
    "        assert_no_null(t_df, self.t_pk+['translations_created_at_date'])\n",
    "        assert_pk(t_df, self.t_pk)\n",
    "    \n",
    "    @staticmethod\n",
    "    def _transform_translations(df):\n",
    "        df = unnest_struct(df)\n",
    "        df = transform_column_names(df)\n",
    "        df = df.select(\n",
    "            \"id_oid\", F.explode('translations').alias('translations')\n",
    "        )\n",
    "        \n",
    "        # unnest two levels\n",
    "        df = unnest_struct(df)\n",
    "        df = unnest_struct(df)\n",
    "        df = transform_column_names(df)\n",
    "        return df\n",
    "    \n",
    "    @print_args(print_kwargs=['target_p_tb', 'target_t_tb'])\n",
    "    def load(self, p_df, t_df, target_p_tb, target_t_tb):\n",
    "        print(f\"posts {p_df.count()} rows.\")\n",
    "        print(f\"translations {t_df.count()} rows.\")\n",
    "        merge(p_df, target_p_tb, self.p_pk, spark_session=self.spark)\n",
    "        merge(t_df, target_t_tb, self.t_pk, spark_session=self.spark)"
   ]
  },
  {
   "cell_type": "code",
   "execution_count": 0,
   "metadata": {
    "application/vnd.databricks.v1+cell": {
     "cellMetadata": {
      "byteLimit": 2048000,
      "rowLimit": 10000
     },
     "inputWidgets": {},
     "nuid": "b02abd49-f200-46bd-b5a1-3c8779d5d1c6",
     "showTitle": false,
     "title": ""
    }
   },
   "outputs": [],
   "source": [
    "%run ./etl_constants"
   ]
  },
  {
   "cell_type": "code",
   "execution_count": 0,
   "metadata": {
    "application/vnd.databricks.v1+cell": {
     "cellMetadata": {
      "byteLimit": 2048000,
      "rowLimit": 10000
     },
     "inputWidgets": {},
     "nuid": "f1f9a194-634b-4628-99d3-f85941d7bd1f",
     "showTitle": false,
     "title": ""
    }
   },
   "outputs": [],
   "source": [
    "etl = PostsBronzeETL(spark, DT_START, DT_END)\n",
    "df = etl.extract(source_tb=TARGET_POSTS_RAW_TB)\n",
    "df.persist()\n",
    "\n",
    "p_df, t_df = etl.transform(df)\n",
    "\n",
    "etl.assert_quality(p_df, t_df)\n",
    "\n",
    "etl.load(\n",
    "    p_df, t_df,\n",
    "    target_p_tb=TARGET_POSTS_BRONZE_TB,\n",
    "    target_t_tb=TARGET_POSTS_TRANSLATIONS_BRONZE_TB\n",
    ")\n",
    "df.unpersist()"
   ]
  },
  {
   "cell_type": "code",
   "execution_count": 0,
   "metadata": {
    "application/vnd.databricks.v1+cell": {
     "cellMetadata": {
      "byteLimit": 2048000,
      "rowLimit": 10000
     },
     "inputWidgets": {},
     "nuid": "a01fed4c-0388-4a6f-b5e4-f0271fc66997",
     "showTitle": false,
     "title": ""
    }
   },
   "outputs": [],
   "source": [
    "spark.sql(f\"SELECT COUNT(1) FROM {TARGET_POSTS_BRONZE_TB}\").display()\n",
    "spark.sql(f\"SELECT COUNT(1) FROM {TARGET_POSTS_TRANSLATIONS_BRONZE_TB}\").display()"
   ]
  },
  {
   "cell_type": "code",
   "execution_count": 0,
   "metadata": {
    "application/vnd.databricks.v1+cell": {
     "cellMetadata": {
      "byteLimit": 2048000,
      "rowLimit": 10000
     },
     "inputWidgets": {},
     "nuid": "acef114d-58ff-4aef-acef-27c215e3a924",
     "showTitle": false,
     "title": ""
    }
   },
   "outputs": [],
   "source": []
  }
 ],
 "metadata": {
  "application/vnd.databricks.v1+notebook": {
   "dashboards": [],
   "language": "python",
   "notebookMetadata": {
    "pythonIndentUnit": 4
   },
   "notebookName": "posts_bronze",
   "widgets": {}
  },
  "kernelspec": {
   "display_name": "Python 3 (ipykernel)",
   "language": "python",
   "name": "python3"
  },
  "language_info": {
   "codemirror_mode": {
    "name": "ipython",
    "version": 3
   },
   "file_extension": ".py",
   "mimetype": "text/x-python",
   "name": "python",
   "nbconvert_exporter": "python",
   "pygments_lexer": "ipython3",
   "version": "3.10.12"
  }
 },
 "nbformat": 4,
 "nbformat_minor": 0
}
