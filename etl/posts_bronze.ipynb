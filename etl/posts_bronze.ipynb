{
 "cells": [
  {
   "cell_type": "code",
   "execution_count": 1,
   "id": "a25b4ccc",
   "metadata": {},
   "outputs": [
    {
     "name": "stderr",
     "output_type": "stream",
     "text": [
      "Warning: Ignoring non-Spark config property: delta.enableChangeDataFeed\n",
      "23/11/16 17:28:14 WARN Utils: Your hostname, spiriel resolves to a loopback address: 127.0.1.1; using 192.168.15.6 instead (on interface enp3s0)\n",
      "23/11/16 17:28:14 WARN Utils: Set SPARK_LOCAL_IP if you need to bind to another address\n"
     ]
    },
    {
     "name": "stdout",
     "output_type": "stream",
     "text": [
      ":: loading settings :: url = jar:file:/home/ahow/virtual_envs/ahow/lib/python3.10/site-packages/pyspark/jars/ivy-2.5.1.jar!/org/apache/ivy/core/settings/ivysettings.xml\n"
     ]
    },
    {
     "name": "stderr",
     "output_type": "stream",
     "text": [
      "Ivy Default Cache set to: /home/ahow/.ivy2/cache\n",
      "The jars for the packages stored in: /home/ahow/.ivy2/jars\n",
      "io.delta#delta-core_2.12 added as a dependency\n",
      ":: resolving dependencies :: org.apache.spark#spark-submit-parent-15adc7c7-306b-493e-8745-da348efcd1d2;1.0\n",
      "\tconfs: [default]\n",
      "\tfound io.delta#delta-core_2.12;2.4.0 in central\n",
      "\tfound io.delta#delta-storage;2.4.0 in central\n",
      "\tfound org.antlr#antlr4-runtime;4.9.3 in central\n",
      ":: resolution report :: resolve 102ms :: artifacts dl 4ms\n",
      "\t:: modules in use:\n",
      "\tio.delta#delta-core_2.12;2.4.0 from central in [default]\n",
      "\tio.delta#delta-storage;2.4.0 from central in [default]\n",
      "\torg.antlr#antlr4-runtime;4.9.3 from central in [default]\n",
      "\t---------------------------------------------------------------------\n",
      "\t|                  |            modules            ||   artifacts   |\n",
      "\t|       conf       | number| search|dwnlded|evicted|| number|dwnlded|\n",
      "\t---------------------------------------------------------------------\n",
      "\t|      default     |   3   |   0   |   0   |   0   ||   3   |   0   |\n",
      "\t---------------------------------------------------------------------\n",
      ":: retrieving :: org.apache.spark#spark-submit-parent-15adc7c7-306b-493e-8745-da348efcd1d2\n",
      "\tconfs: [default]\n",
      "\t0 artifacts copied, 3 already retrieved (0kB/3ms)\n",
      "23/11/16 17:28:15 WARN NativeCodeLoader: Unable to load native-hadoop library for your platform... using builtin-java classes where applicable\n",
      "Setting default log level to \"WARN\".\n",
      "To adjust logging level use sc.setLogLevel(newLevel). For SparkR, use setLogLevel(newLevel).\n",
      "23/11/16 17:28:15 WARN Utils: Service 'SparkUI' could not bind on port 4040. Attempting port 4041.\n"
     ]
    }
   ],
   "source": [
    "import sys\n",
    "sys.path.append(\"/home/ahow/MyGitHub/oppai_challenge/utils\")\n",
    "\n",
    "from pyspark.sql import functions as F\n",
    "from logs import print_args\n",
    "from default_spark import spark\n",
    "from spark_delta import merge, table_exists\n",
    "from spark_delta_transform import unnest_struct, transform_column_names"
   ]
  },
  {
   "cell_type": "code",
   "execution_count": 2,
   "id": "351b80c7",
   "metadata": {},
   "outputs": [],
   "source": [
    "class PostsETL:\n",
    "    def __init__(self, spark, dt_start, dt_end, p_pk=None, t_pk=None):\n",
    "        self.spark = spark\n",
    "        self.dt_start = dt_start  # dummy varibles to be used later in real ETL\n",
    "        self.dt_end = dt_end  # dummy varibles to be used later in real ETL\n",
    "        self.p_pk, self.t_pk = self._set_pk(p_pk, t_pk)\n",
    "        \n",
    "    @staticmethod\n",
    "    def _set_pk(p_pk, t_pk):\n",
    "        if p_pk is None:\n",
    "            p_pk = [\"id_oid\"]\n",
    "        if t_pk is None:\n",
    "            t_pk = [\"id_oid\", \"translations_language\"]\n",
    "        return p_pk, t_pk\n",
    "            \n",
    "    @print_args(print_kwargs=['file_name'])\n",
    "    def extract(self, file_name: str):\n",
    "        p_df = spark.read.format('json').options(multiLine=True).load(file_name)\n",
    "        p_df = p_df.withColumn('updated_at_date', F.to_timestamp(p_df['updated_at.$date']))\n",
    "        p_df = p_df.filter(f\"updated_at_date BETWEEN '{self.dt_start}' AND '{self.dt_end}'\").drop('updated_at_date')\n",
    "        return p_df\n",
    "    \n",
    "    def transform(self, df):\n",
    "        # Remove translations to a separated dataframe.\n",
    "        t_df = df.select(\"_id\", \"translations\")\n",
    "        p_df = df.drop(\"translations\")\n",
    "        \n",
    "        # Unnest\n",
    "        t_df = self._transform_translations(df)\n",
    "        p_df = transform_column_names(unnest_struct(p_df))\n",
    "        \n",
    "        t_df = self._transform_to_timestamp(t_df)\n",
    "        p_df = self._transform_to_timestamp(p_df)\n",
    "                \n",
    "        return p_df, t_df\n",
    "    \n",
    "    @staticmethod\n",
    "    def _transform_to_timestamp(df):\n",
    "        for c in df.columns:\n",
    "            if '_date' in c:\n",
    "                df = df.withColumn(c, F.to_timestamp(df[c]))\n",
    "        return df\n",
    "    \n",
    "    @staticmethod\n",
    "    def _transform_translations(df):\n",
    "        df = unnest_struct(df)\n",
    "        df = transform_column_names(df)\n",
    "        df = df.select(\n",
    "            \"id_oid\", F.explode('translations').alias('translations')\n",
    "        )\n",
    "        \n",
    "        # unnest two levels\n",
    "        df = unnest_struct(df)\n",
    "        df = unnest_struct(df)\n",
    "        df = transform_column_names(df)\n",
    "        return df\n",
    "    \n",
    "    @print_args(print_kwargs=['target_p_tb', 'target_t_tb'])\n",
    "    def load(self, p_df, t_df, target_p_tb, target_t_tb):\n",
    "        merge(p_df, target_p_tb, self.p_pk, spark_session=self.spark)\n",
    "        merge(t_df, target_t_tb, self.t_pk, spark_session=self.spark)"
   ]
  },
  {
   "cell_type": "code",
   "execution_count": 3,
   "id": "3c131532",
   "metadata": {},
   "outputs": [],
   "source": [
    "%run ./etl_constants.ipynb"
   ]
  },
  {
   "cell_type": "code",
   "execution_count": 4,
   "id": "7a67355b",
   "metadata": {},
   "outputs": [
    {
     "name": "stdout",
     "output_type": "stream",
     "text": [
      "--------------------\n",
      "file_name: ../tests/posts.json\n",
      "--------------------\n",
      "--------------------\n",
      "target_p_tb: oppai_challenge.patreon_posts_bronze\n",
      "target_t_tb: oppai_challenge.patreon_posts_translations_bronze\n"
     ]
    },
    {
     "name": "stderr",
     "output_type": "stream",
     "text": [
      "23/11/16 17:28:19 WARN HiveConf: HiveConf of name hive.stats.jdbc.timeout does not exist\n",
      "23/11/16 17:28:19 WARN HiveConf: HiveConf of name hive.stats.retries.wait does not exist\n",
      "23/11/16 17:28:20 WARN ObjectStore: Version information not found in metastore. hive.metastore.schema.verification is not enabled so recording the schema version 2.3.0\n",
      "23/11/16 17:28:20 WARN ObjectStore: setMetaStoreSchemaVersion called but recording version is disabled: version = 2.3.0, comment = Set by MetaStore ahow@127.0.1.1\n",
      "23/11/16 17:28:20 WARN ObjectStore: Failed to get database global_temp, returning NoSuchObjectException\n",
      "23/11/16 17:28:22 WARN package: Truncated the string representation of a plan since it was too large. This behavior can be adjusted by setting 'spark.sql.debug.maxToStringFields'.\n",
      "                                                                                \r"
     ]
    },
    {
     "name": "stdout",
     "output_type": "stream",
     "text": [
      "--------------------\n"
     ]
    }
   ],
   "source": [
    "etl = PostsETL(spark, DT_START, DT_END)\n",
    "df = etl.extract(file_name=f\"{BASE_PATH}/posts.json\")\n",
    "p_df, t_df = etl.transform(df)\n",
    "etl.load(\n",
    "    p_df, t_df,\n",
    "    target_p_tb=TARGET_POSTS_BRONZE_TB,\n",
    "    target_t_tb=TARGET_POSTS_TRANSLATIONS_BRONZE_TB\n",
    ")"
   ]
  },
  {
   "cell_type": "code",
   "execution_count": 5,
   "id": "c591b478",
   "metadata": {},
   "outputs": [
    {
     "name": "stdout",
     "output_type": "stream",
     "text": [
      "+--------+\n",
      "|count(1)|\n",
      "+--------+\n",
      "|     241|\n",
      "+--------+\n",
      "\n",
      "+--------+\n",
      "|count(1)|\n",
      "+--------+\n",
      "|    3615|\n",
      "+--------+\n",
      "\n"
     ]
    }
   ],
   "source": [
    "spark.sql(f\"SELECT COUNT(1) FROM {TARGET_POSTS_BRONZE_TB}\").show()\n",
    "spark.sql(f\"SELECT COUNT(1) FROM {TARGET_POSTS_TRANSLATIONS_BRONZE_TB}\").show()"
   ]
  },
  {
   "cell_type": "code",
   "execution_count": 6,
   "id": "9543336e",
   "metadata": {},
   "outputs": [
    {
     "data": {
      "text/plain": [
       "241"
      ]
     },
     "execution_count": 6,
     "metadata": {},
     "output_type": "execute_result"
    }
   ],
   "source": [
    "df = spark.read.format('json').options(multiLine=True).load(f\"{BASE_PATH}/posts.json\")\n",
    "df.count()"
   ]
  },
  {
   "cell_type": "code",
   "execution_count": 7,
   "id": "45f85230",
   "metadata": {},
   "outputs": [
    {
     "name": "stdout",
     "output_type": "stream",
     "text": [
      "+-----------------------+\n",
      "|sum(size(translations))|\n",
      "+-----------------------+\n",
      "|                   3615|\n",
      "+-----------------------+\n",
      "\n"
     ]
    }
   ],
   "source": [
    "df.select(F.sum(F.size('translations'))).show()"
   ]
  },
  {
   "cell_type": "code",
   "execution_count": null,
   "id": "fe18bf12",
   "metadata": {},
   "outputs": [],
   "source": []
  }
 ],
 "metadata": {
  "kernelspec": {
   "display_name": "Python 3 (ipykernel)",
   "language": "python",
   "name": "python3"
  },
  "language_info": {
   "codemirror_mode": {
    "name": "ipython",
    "version": 3
   },
   "file_extension": ".py",
   "mimetype": "text/x-python",
   "name": "python",
   "nbconvert_exporter": "python",
   "pygments_lexer": "ipython3",
   "version": "3.10.12"
  }
 },
 "nbformat": 4,
 "nbformat_minor": 5
}
