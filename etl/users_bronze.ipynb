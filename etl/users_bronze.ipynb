{
 "cells": [
  {
   "cell_type": "code",
   "execution_count": 1,
   "id": "611753df",
   "metadata": {},
   "outputs": [
    {
     "name": "stderr",
     "output_type": "stream",
     "text": [
      "Warning: Ignoring non-Spark config property: delta.enableChangeDataFeed\n",
      "23/11/16 15:19:38 WARN Utils: Your hostname, spiriel resolves to a loopback address: 127.0.1.1; using 192.168.15.6 instead (on interface enp3s0)\n",
      "23/11/16 15:19:38 WARN Utils: Set SPARK_LOCAL_IP if you need to bind to another address\n"
     ]
    },
    {
     "name": "stdout",
     "output_type": "stream",
     "text": [
      ":: loading settings :: url = jar:file:/home/ahow/virtual_envs/ahow/lib/python3.10/site-packages/pyspark/jars/ivy-2.5.1.jar!/org/apache/ivy/core/settings/ivysettings.xml\n"
     ]
    },
    {
     "name": "stderr",
     "output_type": "stream",
     "text": [
      "Ivy Default Cache set to: /home/ahow/.ivy2/cache\n",
      "The jars for the packages stored in: /home/ahow/.ivy2/jars\n",
      "io.delta#delta-core_2.12 added as a dependency\n",
      ":: resolving dependencies :: org.apache.spark#spark-submit-parent-26224313-863d-4254-8d98-f96f79cf8fef;1.0\n",
      "\tconfs: [default]\n",
      "\tfound io.delta#delta-core_2.12;2.4.0 in central\n",
      "\tfound io.delta#delta-storage;2.4.0 in central\n",
      "\tfound org.antlr#antlr4-runtime;4.9.3 in central\n",
      ":: resolution report :: resolve 99ms :: artifacts dl 4ms\n",
      "\t:: modules in use:\n",
      "\tio.delta#delta-core_2.12;2.4.0 from central in [default]\n",
      "\tio.delta#delta-storage;2.4.0 from central in [default]\n",
      "\torg.antlr#antlr4-runtime;4.9.3 from central in [default]\n",
      "\t---------------------------------------------------------------------\n",
      "\t|                  |            modules            ||   artifacts   |\n",
      "\t|       conf       | number| search|dwnlded|evicted|| number|dwnlded|\n",
      "\t---------------------------------------------------------------------\n",
      "\t|      default     |   3   |   0   |   0   |   0   ||   3   |   0   |\n",
      "\t---------------------------------------------------------------------\n",
      ":: retrieving :: org.apache.spark#spark-submit-parent-26224313-863d-4254-8d98-f96f79cf8fef\n",
      "\tconfs: [default]\n",
      "\t0 artifacts copied, 3 already retrieved (0kB/4ms)\n",
      "23/11/16 15:19:38 WARN NativeCodeLoader: Unable to load native-hadoop library for your platform... using builtin-java classes where applicable\n",
      "Setting default log level to \"WARN\".\n",
      "To adjust logging level use sc.setLogLevel(newLevel). For SparkR, use setLogLevel(newLevel).\n",
      "23/11/16 15:19:39 WARN Utils: Service 'SparkUI' could not bind on port 4040. Attempting port 4041.\n"
     ]
    }
   ],
   "source": [
    "import sys\n",
    "sys.path.append(\"/home/ahow/MyGitHub/oppai_challenge/utils\")\n",
    "\n",
    "from logs import print_args\n",
    "from default_spark import spark\n",
    "from spark_delta import merge, table_exists"
   ]
  },
  {
   "cell_type": "code",
   "execution_count": 2,
   "id": "f4112683",
   "metadata": {},
   "outputs": [],
   "source": [
    "class UsersBronzeETL:\n",
    "    def __init__(self, spark, dt_start, dt_end, pk=None):\n",
    "        self.spark = spark\n",
    "        self.dt_start = dt_start\n",
    "        self.dt_end = dt_end\n",
    "        self.pk = self._get_default_pk(pk)\n",
    "        self.default_date = '1901-01-01'\n",
    "        \n",
    "    @staticmethod\n",
    "    def _get_default_pk(pk):\n",
    "        if pk is None:\n",
    "            return ['id_oid']\n",
    "        return pk\n",
    "        \n",
    "    @print_args(print_kwargs=['source_tb'])\n",
    "    def extract(self, source_tb):\n",
    "        latest_update = f\"COALESCE(updated_at_date, created_at_date, TIMESTAMP '{self.default_date}')\"\n",
    "        df = spark.sql(f\"\"\"\n",
    "        WITH latest AS (\n",
    "            SELECT \n",
    "                {','.join(self.pk)}\n",
    "                , MAX({latest_update}) AS latest_update\n",
    "            FROM {source_tb}\n",
    "            WHERE {latest_update} BETWEEN '{self.dt_start}' AND '{self.dt_end}'\n",
    "            GROUP BY {','.join(self.pk)}\n",
    "        )\n",
    "        SELECT s.* FROM {source_tb} s\n",
    "        JOIN latest l\n",
    "            ON {\" AND \".join([f\"s.{c}=l.{c}\" for c in self.pk])}\n",
    "            AND {latest_update}=l.latest_update\n",
    "        WHERE {latest_update} BETWEEN '{self.dt_start}' AND '{self.dt_end}'\n",
    "        \"\"\")\n",
    "        return df\n",
    "    \n",
    "    def transform(self):\n",
    "        pass\n",
    "    \n",
    "    @print_args(print_kwargs=['target_tb', 'drop'])\n",
    "    def load(self, df, target_tb, drop=False):\n",
    "        if drop and table_exists(target_tb, self.spark):\n",
    "            print(f\"Dropping table {target_tb}\")\n",
    "            self.spark.sql(f\"DROP TABLE {target_tb}\").show()\n",
    "\n",
    "        merge(df, target_tb, self.pk, spark_session=self.spark)"
   ]
  },
  {
   "cell_type": "code",
   "execution_count": 3,
   "id": "3e7d5189",
   "metadata": {},
   "outputs": [],
   "source": [
    "%run ./etl_constants.ipynb"
   ]
  },
  {
   "cell_type": "code",
   "execution_count": 4,
   "id": "4ada0f59",
   "metadata": {},
   "outputs": [
    {
     "name": "stdout",
     "output_type": "stream",
     "text": [
      "--------------------\n",
      "source_tb: oppai_challenge.patreon_users_raw\n"
     ]
    },
    {
     "name": "stderr",
     "output_type": "stream",
     "text": [
      "23/11/16 15:19:40 WARN HiveConf: HiveConf of name hive.stats.jdbc.timeout does not exist\n",
      "23/11/16 15:19:40 WARN HiveConf: HiveConf of name hive.stats.retries.wait does not exist\n",
      "23/11/16 15:19:42 WARN ObjectStore: Version information not found in metastore. hive.metastore.schema.verification is not enabled so recording the schema version 2.3.0\n",
      "23/11/16 15:19:42 WARN ObjectStore: setMetaStoreSchemaVersion called but recording version is disabled: version = 2.3.0, comment = Set by MetaStore ahow@127.0.1.1\n",
      "23/11/16 15:19:42 WARN ObjectStore: Failed to get database global_temp, returning NoSuchObjectException\n"
     ]
    },
    {
     "name": "stdout",
     "output_type": "stream",
     "text": [
      "--------------------\n",
      "--------------------\n",
      "target_tb: oppai_challenge.patreon_users_bronze\n",
      "drop: False\n"
     ]
    },
    {
     "name": "stderr",
     "output_type": "stream",
     "text": [
      "23/11/16 15:19:45 WARN package: Truncated the string representation of a plan since it was too large. This behavior can be adjusted by setting 'spark.sql.debug.maxToStringFields'.\n",
      "                                                                                \r"
     ]
    },
    {
     "name": "stdout",
     "output_type": "stream",
     "text": [
      "--------------------\n"
     ]
    }
   ],
   "source": [
    "etl = UsersBronzeETL(spark, DT_START, DT_END)\n",
    "df = etl.extract(source_tb=TARGET_RAW_TB)\n",
    "etl.load(df, target_tb=TARGET_BRONZE_TB, drop=DROP_BRONZE)"
   ]
  },
  {
   "cell_type": "code",
   "execution_count": 5,
   "id": "110677e3",
   "metadata": {},
   "outputs": [
    {
     "data": {
      "text/plain": [
       "55566"
      ]
     },
     "execution_count": 5,
     "metadata": {},
     "output_type": "execute_result"
    }
   ],
   "source": [
    "df.count()"
   ]
  },
  {
   "cell_type": "code",
   "execution_count": 9,
   "id": "5bdd220e",
   "metadata": {},
   "outputs": [
    {
     "data": {
      "text/plain": [
       "55566"
      ]
     },
     "execution_count": 9,
     "metadata": {},
     "output_type": "execute_result"
    }
   ],
   "source": [
    "spark.sql(f\"SELECT * FROM {TARGET_BRONZE_TB}\").count()"
   ]
  }
 ],
 "metadata": {
  "kernelspec": {
   "display_name": "Python 3 (ipykernel)",
   "language": "python",
   "name": "python3"
  },
  "language_info": {
   "codemirror_mode": {
    "name": "ipython",
    "version": 3
   },
   "file_extension": ".py",
   "mimetype": "text/x-python",
   "name": "python",
   "nbconvert_exporter": "python",
   "pygments_lexer": "ipython3",
   "version": "3.10.12"
  }
 },
 "nbformat": 4,
 "nbformat_minor": 5
}
