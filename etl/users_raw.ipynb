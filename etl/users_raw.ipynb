{
 "cells": [
  {
   "cell_type": "code",
   "execution_count": 0,
   "metadata": {
    "application/vnd.databricks.v1+cell": {
     "cellMetadata": {
      "byteLimit": 2048000,
      "rowLimit": 10000
     },
     "inputWidgets": {},
     "nuid": "00e19dd8-cdb0-435e-9280-4589fe61938e",
     "showTitle": false,
     "title": ""
    }
   },
   "outputs": [],
   "source": [
    "from datetime import datetime, timedelta\n",
    "from pyspark.sql import functions as F\n",
    "from utils.spark_delta_transform import unnest_struct, transform_column_names\n",
    "from utils.spark_delta import merge, table_exists, optimize_tb\n",
    "from utils.logs import print_args"
   ]
  },
  {
   "cell_type": "code",
   "execution_count": 0,
   "metadata": {
    "application/vnd.databricks.v1+cell": {
     "cellMetadata": {
      "byteLimit": 2048000,
      "rowLimit": 10000
     },
     "inputWidgets": {},
     "nuid": "150724a2-172c-4888-81a7-2db66e3fae6f",
     "showTitle": false,
     "title": ""
    }
   },
   "outputs": [],
   "source": [
    "class UsersETL:\n",
    "    def __init__(self, spark, dt_start, dt_end, pk=None):\n",
    "        self.spark = spark\n",
    "        self.dt_start = dt_start  # dummy varibles to be used later in real ETL\n",
    "        self.dt_end = dt_end  # dummy varibles to be used later in real ETL\n",
    "        self.pk = self._set_pk(pk)\n",
    "        \n",
    "    @staticmethod\n",
    "    def _set_pk(pk):\n",
    "        if pk is None:\n",
    "            pk = [\"id_oid\"]\n",
    "        return pk\n",
    "    \n",
    "    @print_args(print_kwargs=['file_name'])\n",
    "    def extract(self, file_name: str):\n",
    "        df = self.spark.read.format('json').options(multiLine=True).load(file_name)\n",
    "        return df\n",
    "    \n",
    "    def transform(self, df):\n",
    "        # Unnest two levels\n",
    "        df = unnest_struct(df)\n",
    "        df = unnest_struct(df)\n",
    "        \n",
    "        df = transform_column_names(df)\n",
    "        \n",
    "        for c in df.columns:\n",
    "            if '_date' in c:\n",
    "                df = df.withColumn(c, F.to_timestamp(df[c]))\n",
    "        \n",
    "        return df\n",
    "    \n",
    "    @print_args(print_kwargs=['target_tb', 'drop'])\n",
    "    def load(self, df, target_tb, drop=False):\n",
    "        if drop and table_exists(target_tb, self.spark):\n",
    "            print(f\"Dropping table {target_tb}\")\n",
    "            self.spark.sql(f\"DROP TABLE {target_tb}\").show()\n",
    "\n",
    "        print(f\"df {df.count()} rows.\")\n",
    "        df.write.format('delta').mode('append').saveAsTable(target_tb)"
   ]
  },
  {
   "cell_type": "code",
   "execution_count": 0,
   "metadata": {
    "application/vnd.databricks.v1+cell": {
     "cellMetadata": {
      "byteLimit": 2048000,
      "rowLimit": 10000
     },
     "inputWidgets": {},
     "nuid": "f2cfc989-0383-4cfd-9bbd-fada383b5423",
     "showTitle": false,
     "title": ""
    }
   },
   "outputs": [],
   "source": [
    "%run ./etl_constants"
   ]
  },
  {
   "cell_type": "code",
   "execution_count": 0,
   "metadata": {
    "application/vnd.databricks.v1+cell": {
     "cellMetadata": {
      "byteLimit": 2048000,
      "rowLimit": 10000
     },
     "inputWidgets": {},
     "nuid": "8e19421a-e4fd-439e-b030-31e0088a5803",
     "showTitle": false,
     "title": ""
    }
   },
   "outputs": [],
   "source": [
    "etl = UsersETL(spark, DT_START, DT_END)\n",
    "df = etl.extract(file_name=f\"{BASE_PATH[5:]}/users.json\")\n",
    "df.persist()\n",
    "\n",
    "df = etl.transform(df)\n",
    "etl.load(df, target_tb=TARGET_USERS_RAW_TB, drop=DROP_RAW)\n",
    "df.unpersist()"
   ]
  },
  {
   "cell_type": "code",
   "execution_count": 0,
   "metadata": {
    "application/vnd.databricks.v1+cell": {
     "cellMetadata": {
      "byteLimit": 2048000,
      "rowLimit": 10000
     },
     "inputWidgets": {},
     "nuid": "3a7e5523-6f18-4319-9863-7ad25dc1f576",
     "showTitle": false,
     "title": ""
    }
   },
   "outputs": [],
   "source": [
    "# etl = UsersETL(spark, DT_START, DT_END)\n",
    "# optimize_tb(spark, TARGET_USERS_RAW_TB, ['updated_at_date']+etl.pk, replace=True)"
   ]
  }
 ],
 "metadata": {
  "application/vnd.databricks.v1+notebook": {
   "dashboards": [],
   "language": "python",
   "notebookMetadata": {
    "pythonIndentUnit": 4
   },
   "notebookName": "users_raw",
   "widgets": {}
  },
  "kernelspec": {
   "display_name": "Python 3 (ipykernel)",
   "language": "python",
   "name": "python3"
  },
  "language_info": {
   "codemirror_mode": {
    "name": "ipython",
    "version": 3
   },
   "file_extension": ".py",
   "mimetype": "text/x-python",
   "name": "python",
   "nbconvert_exporter": "python",
   "pygments_lexer": "ipython3",
   "version": "3.10.12"
  }
 },
 "nbformat": 4,
 "nbformat_minor": 0
}
